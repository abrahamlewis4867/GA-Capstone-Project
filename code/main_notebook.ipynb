{
 "cells": [
  {
   "cell_type": "markdown",
   "metadata": {},
   "source": [
    "# Capstone : Forecasting Water Levels in Chennai India\n",
    "\n",
    "\n",
    "*By: Asher Lewis* [Github](https://github.com/abrahamlewis4867)"
   ]
  },
  {
   "cell_type": "markdown",
   "metadata": {},
   "source": [
    "<img src=\"../assets/D9HGx7FVUAEawA-.jpeg\" width=\"1400px\">"
   ]
  },
  {
   "cell_type": "markdown",
   "metadata": {},
   "source": [
    "## Problem Statement"
   ]
  },
  {
   "cell_type": "markdown",
   "metadata": {},
   "source": [
    "For this project, we are going to try to forecast the average monthly water level for Chennai India's four main reservoirs using time-series data. The threshold of success of our model doing well enough that if it scores higher than the baseline model. The reason for doing so is that in 2019 Chennai experienced a water crisis which had millions of people left without water and required many trains and truck to get the city water. If we can forecast the monthly demand for a given reservoir we can get an idea of how and when the cities reservoirs run out of water. This information can potentially be used later down the line to predict future water demand. The water level is measured in millions of cubic feet. We are going to score our predictions using the Mean Squared Error (MSE). Water demand forecasting is hard in general so we have a rather modest goal for our model to score lower than the baseline's model MSE. This would translate to our model having an MSE closer to zero than the Baseline."
   ]
  },
  {
   "cell_type": "markdown",
   "metadata": {},
   "source": [
    "## Executive Summary"
   ]
  },
  {
   "cell_type": "markdown",
   "metadata": {},
   "source": [
    "On 19 June 2019, Chennai city officials declared that \"Day Zero\", or the day when almost no water is left, had been reached, as all the four main reservoirs supplying water to the city had run dry. First in this project we first combined our two given data sets and saved them into a new csv for analysis and forecasting.\n",
    "\n",
    "The workflow was than broken up in four separate notebooks with this fifth one serving as the place where the notebooks could all come together.\n",
    "\n",
    "In each notebook, we analyzed trends and the nature of both the water level and rain. \n",
    "We then explained some elements of time-series data, such as the potential problem of data not being stationary. \n",
    "\n",
    "After this, we split our data and modeled. We ran a baseline model on each one of the reservoirs. After that, we ran an ARIMA model on each reservoir. \n",
    "For the ARIMA model, we looked at the residuals and plotted the predictions.\n",
    "\n"
   ]
  },
  {
   "cell_type": "markdown",
   "metadata": {},
   "source": [
    "## Table of Contents\n",
    "\n",
    "\n",
    "1. [y](./chembarambakkam_eda_and_modeling.ipynb)\n",
    "1. [Loading packages and data](#Loading-packages-and-data)\n",
    "1. [Data Cleaning](#Data-Cleaning)\n",
    "1. [EDA](#EDA)\n",
    "1. [Model Preparation](#Model-Preparation)\n",
    "1. [Modeling](#Modeling)\n",
    "1. [Model Selection](#Model-Selection)\n",
    "1. [Model evaluation](#Model-evaluation)\n",
    "1. [Conclusions and Recommendations](#Conclusions-and-Recommendations)\n",
    "2. [References](#References)"
   ]
  },
  {
   "cell_type": "markdown",
   "metadata": {},
   "source": [
    "## Data Dictionary "
   ]
  },
  {
   "cell_type": "markdown",
   "metadata": {},
   "source": [
    "|Feature|Type|Dataset|Description|\n",
    "|---|---|---|---|\n",
    "|Date|datetime64|chennai_reservoir_levels.csv| The date in year, month and day|\n",
    "|poondi_water|Float64|chennai_reservoir_levels.csv|Water level of Poondi lake in Millions of Cubic Feet|\n",
    "|cholavaram_water|Float64|chennai_reservoir_levels.csv|Water level of cholavaram lake in Millions of Cubic Feet|\n",
    "|redhills_water|Float64|chennai_reservoir_levels.csv|Water level of Redhills lake in Millions of Cubic Feet|\n",
    "|chembarambakkam_water|Float64|chennai_reservoir_levels.csv|Water level of Chembarambakkam lake in Millions of Cubic Feet|\n",
    "|cholavaram_rain|Float64|chennai_reservoir_rainfall.csv|Rainfall for Cholavaram lake in millimeters|\n",
    "|poondi_rain|Float64|chennai_reservoir_rainfall.csv|Rainfall for Poondi lake in millimeters|\n",
    "|redhills_rain|Float64|chennai_reservoir_rainfall.csv|Rainfall for Redhills lake in millimeters|\n",
    "|chembarambakkam_rain|Float64|chennai_reservoir_rainfall.csv|Rainfall for Chembarambakkam lake in millimeters|\n"
   ]
  },
  {
   "cell_type": "markdown",
   "metadata": {},
   "source": [
    "Our data comes from [Chennai Metro and Sewer](https://chennaimetrowater.tn.gov.in/) and was gathered together on Kaggle. It contains data daily data from 2004 to the end of 2019."
   ]
  },
  {
   "cell_type": "markdown",
   "metadata": {},
   "source": [
    "<img src=\"../assets/chennai.png\" width=\"1400px\">"
   ]
  },
  {
   "cell_type": "markdown",
   "metadata": {},
   "source": [
    "Red Hills, Cholavaram, Poondi and Chembarambakkam have a combined capacity of 11,057 mcft. These are the major sources of fresh water for the city.[source](https://chennaimetrowater.tn.gov.in/online_water_taxpayment.html)"
   ]
  },
  {
   "cell_type": "markdown",
   "metadata": {},
   "source": [
    "---"
   ]
  },
  {
   "cell_type": "markdown",
   "metadata": {},
   "source": [
    "## Loading packages and data\n",
    "---"
   ]
  },
  {
   "cell_type": "code",
   "execution_count": 1,
   "metadata": {},
   "outputs": [],
   "source": [
    "import pandas as pd # packages for reading in data\n",
    "import numpy as np\n",
    "import matplotlib.pyplot as plt  # packages for displaying data\n",
    "from matplotlib.patches import Rectangle\n",
    "import seaborn as sns\n",
    "import statsmodels.api as sm\n",
    "from statsmodels.tsa.stattools import acf, pacf #packages for statistics\n",
    "from statsmodels.graphics.tsaplots import plot_acf, plot_pacf\n",
    "from statsmodels.tsa.arima_model import ARIMA\n",
    "from sklearn.metrics import r2_score\n",
    "from sklearn.dummy import DummyRegressor\n",
    "from sklearn.model_selection import train_test_split\n",
    "from sklearn.linear_model import LinearRegression\n",
    "from statsmodels.tsa.stattools import adfuller\n",
    "from pmdarima import auto_arima\n",
    "\n",
    "\n",
    "sns.set_style(\"darkgrid\") # setting"
   ]
  },
  {
   "cell_type": "code",
   "execution_count": 2,
   "metadata": {},
   "outputs": [],
   "source": [
    "water = pd.read_csv(\"../data/chennai_reservoir_levels.csv\") #reading in data"
   ]
  },
  {
   "cell_type": "code",
   "execution_count": 3,
   "metadata": {},
   "outputs": [],
   "source": [
    "rain = pd.read_csv(\"../data/chennai_reservoir_rainfall.csv\") #reading in data"
   ]
  },
  {
   "cell_type": "markdown",
   "metadata": {},
   "source": [
    "---"
   ]
  },
  {
   "cell_type": "markdown",
   "metadata": {},
   "source": [
    "## Cleaning"
   ]
  },
  {
   "cell_type": "code",
   "execution_count": 4,
   "metadata": {},
   "outputs": [
    {
     "data": {
      "text/plain": [
       "(5836, 5)"
      ]
     },
     "execution_count": 4,
     "metadata": {},
     "output_type": "execute_result"
    }
   ],
   "source": [
    "rain.shape"
   ]
  },
  {
   "cell_type": "code",
   "execution_count": 5,
   "metadata": {},
   "outputs": [
    {
     "data": {
      "text/plain": [
       "(5836, 5)"
      ]
     },
     "execution_count": 5,
     "metadata": {},
     "output_type": "execute_result"
    }
   ],
   "source": [
    "water.shape"
   ]
  },
  {
   "cell_type": "code",
   "execution_count": 6,
   "metadata": {},
   "outputs": [],
   "source": [
    "water.rename(columns={\"POONDI\": \"poondi_water\",   #each one on the right is the name and the one on the left is the name I am giving it\n",
    "                     \"CHOLAVARAM\": \"cholavaram_water\",\n",
    "                     \"REDHILLS\": \"redhills_water\",\n",
    "                    \"CHEMBARAMBAKKAM\": \"chembarambakkam_water\",\n",
    "                     \"Date\": \"date\"},inplace =True)"
   ]
  },
  {
   "cell_type": "code",
   "execution_count": 7,
   "metadata": {},
   "outputs": [],
   "source": [
    "rain.rename(columns={\"POONDI\": \"poondi_rain\", \n",
    "                     \"CHOLAVARAM\": \"cholavaram_rain\",\n",
    "                     \"REDHILLS\": \"redhills_rain\",\n",
    "                    \"CHEMBARAMBAKKAM\": \"chembarambakkam_rain\",\n",
    "                    \"Date\": \"date\"},inplace =True)"
   ]
  },
  {
   "cell_type": "code",
   "execution_count": 8,
   "metadata": {},
   "outputs": [],
   "source": [
    "df = pd.merge(water.copy(), rain.copy() ,on =\"date\", how=\"outer\") #merging on the shared column of date"
   ]
  },
  {
   "cell_type": "code",
   "execution_count": 9,
   "metadata": {
    "scrolled": false
   },
   "outputs": [
    {
     "data": {
      "text/plain": [
       "date                     0\n",
       "poondi_water             0\n",
       "cholavaram_water         0\n",
       "redhills_water           0\n",
       "chembarambakkam_water    0\n",
       "poondi_rain              0\n",
       "cholavaram_rain          0\n",
       "redhills_rain            0\n",
       "chembarambakkam_rain     0\n",
       "dtype: int64"
      ]
     },
     "execution_count": 9,
     "metadata": {},
     "output_type": "execute_result"
    }
   ],
   "source": [
    "df.isna().sum()"
   ]
  },
  {
   "cell_type": "code",
   "execution_count": null,
   "metadata": {},
   "outputs": [],
   "source": []
  },
  {
   "cell_type": "code",
   "execution_count": 10,
   "metadata": {},
   "outputs": [
    {
     "data": {
      "text/html": [
       "<div>\n",
       "<style scoped>\n",
       "    .dataframe tbody tr th:only-of-type {\n",
       "        vertical-align: middle;\n",
       "    }\n",
       "\n",
       "    .dataframe tbody tr th {\n",
       "        vertical-align: top;\n",
       "    }\n",
       "\n",
       "    .dataframe thead th {\n",
       "        text-align: right;\n",
       "    }\n",
       "</style>\n",
       "<table border=\"1\" class=\"dataframe\">\n",
       "  <thead>\n",
       "    <tr style=\"text-align: right;\">\n",
       "      <th></th>\n",
       "      <th>date</th>\n",
       "      <th>poondi_water</th>\n",
       "      <th>cholavaram_water</th>\n",
       "      <th>redhills_water</th>\n",
       "      <th>chembarambakkam_water</th>\n",
       "      <th>poondi_rain</th>\n",
       "      <th>cholavaram_rain</th>\n",
       "      <th>redhills_rain</th>\n",
       "      <th>chembarambakkam_rain</th>\n",
       "    </tr>\n",
       "  </thead>\n",
       "  <tbody>\n",
       "    <tr>\n",
       "      <th>0</th>\n",
       "      <td>01-01-2004</td>\n",
       "      <td>3.9</td>\n",
       "      <td>0.0</td>\n",
       "      <td>268.0</td>\n",
       "      <td>0.0</td>\n",
       "      <td>0.0</td>\n",
       "      <td>0.0</td>\n",
       "      <td>0.0</td>\n",
       "      <td>0.0</td>\n",
       "    </tr>\n",
       "    <tr>\n",
       "      <th>1</th>\n",
       "      <td>02-01-2004</td>\n",
       "      <td>3.9</td>\n",
       "      <td>0.0</td>\n",
       "      <td>268.0</td>\n",
       "      <td>0.0</td>\n",
       "      <td>0.0</td>\n",
       "      <td>0.0</td>\n",
       "      <td>0.0</td>\n",
       "      <td>0.0</td>\n",
       "    </tr>\n",
       "    <tr>\n",
       "      <th>2</th>\n",
       "      <td>03-01-2004</td>\n",
       "      <td>3.9</td>\n",
       "      <td>0.0</td>\n",
       "      <td>267.0</td>\n",
       "      <td>0.0</td>\n",
       "      <td>0.0</td>\n",
       "      <td>0.0</td>\n",
       "      <td>0.0</td>\n",
       "      <td>0.0</td>\n",
       "    </tr>\n",
       "    <tr>\n",
       "      <th>3</th>\n",
       "      <td>04-01-2004</td>\n",
       "      <td>3.9</td>\n",
       "      <td>0.0</td>\n",
       "      <td>267.0</td>\n",
       "      <td>0.0</td>\n",
       "      <td>0.0</td>\n",
       "      <td>0.0</td>\n",
       "      <td>0.0</td>\n",
       "      <td>0.0</td>\n",
       "    </tr>\n",
       "    <tr>\n",
       "      <th>4</th>\n",
       "      <td>05-01-2004</td>\n",
       "      <td>3.8</td>\n",
       "      <td>0.0</td>\n",
       "      <td>267.0</td>\n",
       "      <td>0.0</td>\n",
       "      <td>0.0</td>\n",
       "      <td>0.0</td>\n",
       "      <td>0.0</td>\n",
       "      <td>0.0</td>\n",
       "    </tr>\n",
       "    <tr>\n",
       "      <th>...</th>\n",
       "      <td>...</td>\n",
       "      <td>...</td>\n",
       "      <td>...</td>\n",
       "      <td>...</td>\n",
       "      <td>...</td>\n",
       "      <td>...</td>\n",
       "      <td>...</td>\n",
       "      <td>...</td>\n",
       "      <td>...</td>\n",
       "    </tr>\n",
       "    <tr>\n",
       "      <th>5831</th>\n",
       "      <td>19-12-2019</td>\n",
       "      <td>1535.0</td>\n",
       "      <td>139.0</td>\n",
       "      <td>2318.0</td>\n",
       "      <td>1397.0</td>\n",
       "      <td>0.0</td>\n",
       "      <td>0.0</td>\n",
       "      <td>0.0</td>\n",
       "      <td>0.0</td>\n",
       "    </tr>\n",
       "    <tr>\n",
       "      <th>5832</th>\n",
       "      <td>20-12-2019</td>\n",
       "      <td>1529.0</td>\n",
       "      <td>131.0</td>\n",
       "      <td>2335.0</td>\n",
       "      <td>1435.0</td>\n",
       "      <td>0.0</td>\n",
       "      <td>0.0</td>\n",
       "      <td>0.0</td>\n",
       "      <td>0.0</td>\n",
       "    </tr>\n",
       "    <tr>\n",
       "      <th>5833</th>\n",
       "      <td>21-12-2019</td>\n",
       "      <td>1522.0</td>\n",
       "      <td>123.0</td>\n",
       "      <td>2351.0</td>\n",
       "      <td>1473.0</td>\n",
       "      <td>0.0</td>\n",
       "      <td>0.0</td>\n",
       "      <td>0.0</td>\n",
       "      <td>0.0</td>\n",
       "    </tr>\n",
       "    <tr>\n",
       "      <th>5834</th>\n",
       "      <td>22-12-2019</td>\n",
       "      <td>1514.0</td>\n",
       "      <td>115.0</td>\n",
       "      <td>2369.0</td>\n",
       "      <td>1510.0</td>\n",
       "      <td>0.0</td>\n",
       "      <td>0.0</td>\n",
       "      <td>0.0</td>\n",
       "      <td>0.0</td>\n",
       "    </tr>\n",
       "    <tr>\n",
       "      <th>5835</th>\n",
       "      <td>23-12-2019</td>\n",
       "      <td>1497.0</td>\n",
       "      <td>108.0</td>\n",
       "      <td>2382.0</td>\n",
       "      <td>1548.0</td>\n",
       "      <td>0.0</td>\n",
       "      <td>0.0</td>\n",
       "      <td>0.0</td>\n",
       "      <td>0.0</td>\n",
       "    </tr>\n",
       "  </tbody>\n",
       "</table>\n",
       "<p>5836 rows × 9 columns</p>\n",
       "</div>"
      ],
      "text/plain": [
       "            date  poondi_water  cholavaram_water  redhills_water  \\\n",
       "0     01-01-2004           3.9               0.0           268.0   \n",
       "1     02-01-2004           3.9               0.0           268.0   \n",
       "2     03-01-2004           3.9               0.0           267.0   \n",
       "3     04-01-2004           3.9               0.0           267.0   \n",
       "4     05-01-2004           3.8               0.0           267.0   \n",
       "...          ...           ...               ...             ...   \n",
       "5831  19-12-2019        1535.0             139.0          2318.0   \n",
       "5832  20-12-2019        1529.0             131.0          2335.0   \n",
       "5833  21-12-2019        1522.0             123.0          2351.0   \n",
       "5834  22-12-2019        1514.0             115.0          2369.0   \n",
       "5835  23-12-2019        1497.0             108.0          2382.0   \n",
       "\n",
       "      chembarambakkam_water  poondi_rain  cholavaram_rain  redhills_rain  \\\n",
       "0                       0.0          0.0              0.0            0.0   \n",
       "1                       0.0          0.0              0.0            0.0   \n",
       "2                       0.0          0.0              0.0            0.0   \n",
       "3                       0.0          0.0              0.0            0.0   \n",
       "4                       0.0          0.0              0.0            0.0   \n",
       "...                     ...          ...              ...            ...   \n",
       "5831                 1397.0          0.0              0.0            0.0   \n",
       "5832                 1435.0          0.0              0.0            0.0   \n",
       "5833                 1473.0          0.0              0.0            0.0   \n",
       "5834                 1510.0          0.0              0.0            0.0   \n",
       "5835                 1548.0          0.0              0.0            0.0   \n",
       "\n",
       "      chembarambakkam_rain  \n",
       "0                      0.0  \n",
       "1                      0.0  \n",
       "2                      0.0  \n",
       "3                      0.0  \n",
       "4                      0.0  \n",
       "...                    ...  \n",
       "5831                   0.0  \n",
       "5832                   0.0  \n",
       "5833                   0.0  \n",
       "5834                   0.0  \n",
       "5835                   0.0  \n",
       "\n",
       "[5836 rows x 9 columns]"
      ]
     },
     "execution_count": 10,
     "metadata": {},
     "output_type": "execute_result"
    }
   ],
   "source": [
    "df"
   ]
  },
  {
   "cell_type": "code",
   "execution_count": 11,
   "metadata": {},
   "outputs": [],
   "source": [
    "df = df[['date', 'poondi_water','poondi_rain','cholavaram_water',\n",
    "   'cholavaram_rain', 'redhills_water', 'redhills_rain', 'chembarambakkam_water','chembarambakkam_rain' ]]"
   ]
  },
  {
   "cell_type": "code",
   "execution_count": 12,
   "metadata": {
    "scrolled": false
   },
   "outputs": [
    {
     "data": {
      "text/html": [
       "<div>\n",
       "<style scoped>\n",
       "    .dataframe tbody tr th:only-of-type {\n",
       "        vertical-align: middle;\n",
       "    }\n",
       "\n",
       "    .dataframe tbody tr th {\n",
       "        vertical-align: top;\n",
       "    }\n",
       "\n",
       "    .dataframe thead th {\n",
       "        text-align: right;\n",
       "    }\n",
       "</style>\n",
       "<table border=\"1\" class=\"dataframe\">\n",
       "  <thead>\n",
       "    <tr style=\"text-align: right;\">\n",
       "      <th></th>\n",
       "      <th>date</th>\n",
       "      <th>poondi_water</th>\n",
       "      <th>poondi_rain</th>\n",
       "      <th>cholavaram_water</th>\n",
       "      <th>cholavaram_rain</th>\n",
       "      <th>redhills_water</th>\n",
       "      <th>redhills_rain</th>\n",
       "      <th>chembarambakkam_water</th>\n",
       "      <th>chembarambakkam_rain</th>\n",
       "    </tr>\n",
       "  </thead>\n",
       "  <tbody>\n",
       "    <tr>\n",
       "      <th>0</th>\n",
       "      <td>01-01-2004</td>\n",
       "      <td>3.9</td>\n",
       "      <td>0.0</td>\n",
       "      <td>0.0</td>\n",
       "      <td>0.0</td>\n",
       "      <td>268.0</td>\n",
       "      <td>0.0</td>\n",
       "      <td>0.0</td>\n",
       "      <td>0.0</td>\n",
       "    </tr>\n",
       "    <tr>\n",
       "      <th>1</th>\n",
       "      <td>02-01-2004</td>\n",
       "      <td>3.9</td>\n",
       "      <td>0.0</td>\n",
       "      <td>0.0</td>\n",
       "      <td>0.0</td>\n",
       "      <td>268.0</td>\n",
       "      <td>0.0</td>\n",
       "      <td>0.0</td>\n",
       "      <td>0.0</td>\n",
       "    </tr>\n",
       "    <tr>\n",
       "      <th>2</th>\n",
       "      <td>03-01-2004</td>\n",
       "      <td>3.9</td>\n",
       "      <td>0.0</td>\n",
       "      <td>0.0</td>\n",
       "      <td>0.0</td>\n",
       "      <td>267.0</td>\n",
       "      <td>0.0</td>\n",
       "      <td>0.0</td>\n",
       "      <td>0.0</td>\n",
       "    </tr>\n",
       "    <tr>\n",
       "      <th>3</th>\n",
       "      <td>04-01-2004</td>\n",
       "      <td>3.9</td>\n",
       "      <td>0.0</td>\n",
       "      <td>0.0</td>\n",
       "      <td>0.0</td>\n",
       "      <td>267.0</td>\n",
       "      <td>0.0</td>\n",
       "      <td>0.0</td>\n",
       "      <td>0.0</td>\n",
       "    </tr>\n",
       "    <tr>\n",
       "      <th>4</th>\n",
       "      <td>05-01-2004</td>\n",
       "      <td>3.8</td>\n",
       "      <td>0.0</td>\n",
       "      <td>0.0</td>\n",
       "      <td>0.0</td>\n",
       "      <td>267.0</td>\n",
       "      <td>0.0</td>\n",
       "      <td>0.0</td>\n",
       "      <td>0.0</td>\n",
       "    </tr>\n",
       "    <tr>\n",
       "      <th>...</th>\n",
       "      <td>...</td>\n",
       "      <td>...</td>\n",
       "      <td>...</td>\n",
       "      <td>...</td>\n",
       "      <td>...</td>\n",
       "      <td>...</td>\n",
       "      <td>...</td>\n",
       "      <td>...</td>\n",
       "      <td>...</td>\n",
       "    </tr>\n",
       "    <tr>\n",
       "      <th>5831</th>\n",
       "      <td>19-12-2019</td>\n",
       "      <td>1535.0</td>\n",
       "      <td>0.0</td>\n",
       "      <td>139.0</td>\n",
       "      <td>0.0</td>\n",
       "      <td>2318.0</td>\n",
       "      <td>0.0</td>\n",
       "      <td>1397.0</td>\n",
       "      <td>0.0</td>\n",
       "    </tr>\n",
       "    <tr>\n",
       "      <th>5832</th>\n",
       "      <td>20-12-2019</td>\n",
       "      <td>1529.0</td>\n",
       "      <td>0.0</td>\n",
       "      <td>131.0</td>\n",
       "      <td>0.0</td>\n",
       "      <td>2335.0</td>\n",
       "      <td>0.0</td>\n",
       "      <td>1435.0</td>\n",
       "      <td>0.0</td>\n",
       "    </tr>\n",
       "    <tr>\n",
       "      <th>5833</th>\n",
       "      <td>21-12-2019</td>\n",
       "      <td>1522.0</td>\n",
       "      <td>0.0</td>\n",
       "      <td>123.0</td>\n",
       "      <td>0.0</td>\n",
       "      <td>2351.0</td>\n",
       "      <td>0.0</td>\n",
       "      <td>1473.0</td>\n",
       "      <td>0.0</td>\n",
       "    </tr>\n",
       "    <tr>\n",
       "      <th>5834</th>\n",
       "      <td>22-12-2019</td>\n",
       "      <td>1514.0</td>\n",
       "      <td>0.0</td>\n",
       "      <td>115.0</td>\n",
       "      <td>0.0</td>\n",
       "      <td>2369.0</td>\n",
       "      <td>0.0</td>\n",
       "      <td>1510.0</td>\n",
       "      <td>0.0</td>\n",
       "    </tr>\n",
       "    <tr>\n",
       "      <th>5835</th>\n",
       "      <td>23-12-2019</td>\n",
       "      <td>1497.0</td>\n",
       "      <td>0.0</td>\n",
       "      <td>108.0</td>\n",
       "      <td>0.0</td>\n",
       "      <td>2382.0</td>\n",
       "      <td>0.0</td>\n",
       "      <td>1548.0</td>\n",
       "      <td>0.0</td>\n",
       "    </tr>\n",
       "  </tbody>\n",
       "</table>\n",
       "<p>5836 rows × 9 columns</p>\n",
       "</div>"
      ],
      "text/plain": [
       "            date  poondi_water  poondi_rain  cholavaram_water  \\\n",
       "0     01-01-2004           3.9          0.0               0.0   \n",
       "1     02-01-2004           3.9          0.0               0.0   \n",
       "2     03-01-2004           3.9          0.0               0.0   \n",
       "3     04-01-2004           3.9          0.0               0.0   \n",
       "4     05-01-2004           3.8          0.0               0.0   \n",
       "...          ...           ...          ...               ...   \n",
       "5831  19-12-2019        1535.0          0.0             139.0   \n",
       "5832  20-12-2019        1529.0          0.0             131.0   \n",
       "5833  21-12-2019        1522.0          0.0             123.0   \n",
       "5834  22-12-2019        1514.0          0.0             115.0   \n",
       "5835  23-12-2019        1497.0          0.0             108.0   \n",
       "\n",
       "      cholavaram_rain  redhills_water  redhills_rain  chembarambakkam_water  \\\n",
       "0                 0.0           268.0            0.0                    0.0   \n",
       "1                 0.0           268.0            0.0                    0.0   \n",
       "2                 0.0           267.0            0.0                    0.0   \n",
       "3                 0.0           267.0            0.0                    0.0   \n",
       "4                 0.0           267.0            0.0                    0.0   \n",
       "...               ...             ...            ...                    ...   \n",
       "5831              0.0          2318.0            0.0                 1397.0   \n",
       "5832              0.0          2335.0            0.0                 1435.0   \n",
       "5833              0.0          2351.0            0.0                 1473.0   \n",
       "5834              0.0          2369.0            0.0                 1510.0   \n",
       "5835              0.0          2382.0            0.0                 1548.0   \n",
       "\n",
       "      chembarambakkam_rain  \n",
       "0                      0.0  \n",
       "1                      0.0  \n",
       "2                      0.0  \n",
       "3                      0.0  \n",
       "4                      0.0  \n",
       "...                    ...  \n",
       "5831                   0.0  \n",
       "5832                   0.0  \n",
       "5833                   0.0  \n",
       "5834                   0.0  \n",
       "5835                   0.0  \n",
       "\n",
       "[5836 rows x 9 columns]"
      ]
     },
     "execution_count": 12,
     "metadata": {},
     "output_type": "execute_result"
    }
   ],
   "source": [
    "df"
   ]
  },
  {
   "cell_type": "code",
   "execution_count": 13,
   "metadata": {
    "scrolled": false
   },
   "outputs": [
    {
     "data": {
      "text/plain": [
       "date                      object\n",
       "poondi_water             float64\n",
       "poondi_rain              float64\n",
       "cholavaram_water         float64\n",
       "cholavaram_rain          float64\n",
       "redhills_water           float64\n",
       "redhills_rain            float64\n",
       "chembarambakkam_water    float64\n",
       "chembarambakkam_rain     float64\n",
       "dtype: object"
      ]
     },
     "execution_count": 13,
     "metadata": {},
     "output_type": "execute_result"
    }
   ],
   "source": [
    "df.dtypes"
   ]
  },
  {
   "cell_type": "code",
   "execution_count": 14,
   "metadata": {},
   "outputs": [],
   "source": [
    "df.sort_index(inplace = True)"
   ]
  },
  {
   "cell_type": "code",
   "execution_count": 33,
   "metadata": {},
   "outputs": [
    {
     "data": {
      "text/plain": [
       "'D'"
      ]
     },
     "execution_count": 33,
     "metadata": {},
     "output_type": "execute_result"
    }
   ],
   "source": [
    "df.index.inferred_freq"
   ]
  },
  {
   "cell_type": "code",
   "execution_count": 15,
   "metadata": {},
   "outputs": [],
   "source": [
    "df[\"date\"] = pd.to_datetime(df.loc[: ,\"date\"], format='%d-%m-%Y') #Chaning the format to the American order"
   ]
  },
  {
   "cell_type": "code",
   "execution_count": 16,
   "metadata": {},
   "outputs": [],
   "source": [
    "df.to_csv(\"../data/chennai_complete.csv\",index=False)"
   ]
  },
  {
   "cell_type": "code",
   "execution_count": null,
   "metadata": {},
   "outputs": [],
   "source": []
  },
  {
   "cell_type": "markdown",
   "metadata": {},
   "source": [
    "---"
   ]
  },
  {
   "cell_type": "markdown",
   "metadata": {},
   "source": [
    "## Conclusions and Recommendations"
   ]
  },
  {
   "cell_type": "markdown",
   "metadata": {},
   "source": [
    "All of our models mangaged to get above our problem statments goal of higher score than 65% $R^2$. In fact most of them did quite well.\n",
    "In our model we saw that the significant leading correlations with lags were hard to find so our regression models may be better at predicting the present than the future. Still at the end of the day regression models are quite powerful as well as being interpretable. \n",
    "\n",
    "There are many things we can do in the future such as implementing more complex Models such as ARIMA and SARIMA models. Another thing we could do is run the are existing models with differencing the data. Another thing we could have done is regularize the data.\n",
    "\n",
    "It goes without being said but always getting more data is better. It would be nice to have such features such as temperature and exact water usage.\n",
    "\n",
    "\n",
    "In terms of the data it was fascinating to see how in the data how much everything is man made from the reservoirs themselves to the water scarcity problem with the data. I would suggest better collection methods of water during the monsoon season. Another thing I would suggest is to get a better record of how the the people use the water. This is truly a crisis that unfortunately  awaits most cites unless we take the proper action.\n"
   ]
  },
  {
   "cell_type": "markdown",
   "metadata": {},
   "source": [
    "1. [Duke University](http://people.duke.edu/~rnau/timereg.html)  \n",
    "1. [Penn State](https://online.stat.psu.edu/stat462/node/188/) \n",
    "1. [dataquest](https://www.dataquest.io/blog/tutorial-time-series-analysis-with-pandas/)\n",
    "1. [Indian Express](https://www.newindianexpress.com/cities/chennai/2019/jun/15/water-becomes-a-priced-possession-in-north-chennai-1990378.html)\n",
    "1. [Our water in stress](https://ourworldindata.org/water-use-stress) \n",
    "1. [Water Project](https://www.wri.org/aqueduct/data)  \n",
    "1. [UN](https://www.un-ihe.org/water-peace-and-security-partnership)\n",
    "1. [Digital India](https://analyticsindiamag.com/solving-global-water-crisis-with-artificial-intelligence/)    \n",
    "        \n",
    "1. [Kaggle](https://www.kaggle.com/sudalairajkumar/exploration-to-quench-chennai-s-thirst)   \n",
    "1. [towards data](https://towardsdatascience.com/almost-everything-you-need-to-know-about-time-series-860241bdc578)\n",
    "1. [npr](https://www.npr.org/sections/goatsandsoda/2019/06/25/734534821/no-drips-no-drops-a-city-of-10-million-is-running-out-of-water)\n",
    "\n",
    "1. [indian press](https://www.newindianexpress.com/cities/chennai/2019/jun/15/water-becomes-a-priced-possession-in-north-chennai-1990378.html\n",
    ")\n",
    "1. [wbr](https://www.wbur.org/onpoint/2019/08/01/india-chennai-water-shortage-crisis-infrastructure)\n",
    "1. [cenus India](https://censusindia.gov.in/maps/Town_maps/chennai_Mun_cor_div.aspx)\n",
    "1. [stack exchange](https://stats.stackexchange.com/questions/142248/difference-between-r-square-and-rmse-in-linear-regression)\n",
    "1. [chenni sewer metro](https://chennaimetrowater.tn.gov.in/)"
   ]
  }
 ],
 "metadata": {
  "kernelspec": {
   "display_name": "Python 3",
   "language": "python",
   "name": "python3"
  },
  "language_info": {
   "codemirror_mode": {
    "name": "ipython",
    "version": 3
   },
   "file_extension": ".py",
   "mimetype": "text/x-python",
   "name": "python",
   "nbconvert_exporter": "python",
   "pygments_lexer": "ipython3",
   "version": "3.7.6"
  }
 },
 "nbformat": 4,
 "nbformat_minor": 4
}
